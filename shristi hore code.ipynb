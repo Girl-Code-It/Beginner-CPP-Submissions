{
  "nbformat": 4,
  "nbformat_minor": 0,
  "metadata": {
    "colab": {
      "name": "Untitled0.ipynb",
      "provenance": [],
      "collapsed_sections": [],
      "authorship_tag": "ABX9TyNTTZPQLshtblPLE+NLQ3tg",
      "include_colab_link": true
    },
    "kernelspec": {
      "name": "python3",
      "display_name": "Python 3"
    },
    "language_info": {
      "name": "python"
    }
  },
  "cells": [
    {
      "cell_type": "markdown",
      "metadata": {
        "id": "view-in-github",
        "colab_type": "text"
      },
      "source": [
        "<a href=\"https://colab.research.google.com/github/sejalchanchlani/Beginner-CPP-Submissions/blob/master/shristi%20hore%20code.ipynb\" target=\"_parent\"><img src=\"https://colab.research.google.com/assets/colab-badge.svg\" alt=\"Open In Colab\"/></a>"
      ]
    },
    {
      "cell_type": "code",
      "execution_count": 1,
      "metadata": {
        "colab": {
          "base_uri": "https://localhost:8080/"
        },
        "id": "1p0IGOlAZgeA",
        "outputId": "2ed6bad5-2b7b-46fe-e843-5fac53e5bc08"
      },
      "outputs": [
        {
          "output_type": "stream",
          "name": "stdout",
          "text": [
            "Cloning into 'Anomaly-Detection-in-CCTV-Surveillance-Videos'...\n",
            "remote: Enumerating objects: 111, done.\u001b[K\n",
            "remote: Total 111 (delta 0), reused 0 (delta 0), pack-reused 111\u001b[K\n",
            "Receiving objects: 100% (111/111), 47.73 MiB | 10.37 MiB/s, done.\n",
            "Resolving deltas: 100% (28/28), done.\n"
          ]
        }
      ],
      "source": [
        "!git clone https://github.com/ShrishtiHore/Anomaly-Detection-in-CCTV-Surveillance-Videos"
      ]
    },
    {
      "cell_type": "code",
      "source": [
        ""
      ],
      "metadata": {
        "id": "4j9ZdQCAmvC_"
      },
      "execution_count": null,
      "outputs": []
    },
    {
      "cell_type": "code",
      "source": [
        "%cd Anomaly-Detection-in-CCTV-Surveillance-Videos/"
      ],
      "metadata": {
        "colab": {
          "base_uri": "https://localhost:8080/"
        },
        "id": "fHz3mRPEZt0V",
        "outputId": "8a2ecfe9-6124-4574-e2af-077ccb02bdfe"
      },
      "execution_count": 2,
      "outputs": [
        {
          "output_type": "stream",
          "name": "stdout",
          "text": [
            "/content/Anomaly-Detection-in-CCTV-Surveillance-Videos\n"
          ]
        }
      ]
    },
    {
      "cell_type": "code",
      "source": [
        "%cd STAutoEncoder/"
      ],
      "metadata": {
        "colab": {
          "base_uri": "https://localhost:8080/"
        },
        "id": "Ujx-7xGUZyAF",
        "outputId": "7e39e557-b5d4-451c-94d5-ecb0a8f9609b"
      },
      "execution_count": 3,
      "outputs": [
        {
          "output_type": "stream",
          "name": "stdout",
          "text": [
            "/content/Anomaly-Detection-in-CCTV-Surveillance-Videos/STAutoEncoder\n"
          ]
        }
      ]
    },
    {
      "cell_type": "code",
      "source": [
        "%cd /content/Anomaly-Detection-in-CCTV-Surveillance-Videos/STAutoEncoder\n",
        "!unzip /content/Anomaly-Detection-in-CCTV-Surveillance-Videos/STAutoEncoder/training.zip\n",
        "\n",
        "\n",
        "!pwd"
      ],
      "metadata": {
        "colab": {
          "base_uri": "https://localhost:8080/"
        },
        "id": "xQChojMTZ2Nw",
        "outputId": "73bff593-cf8c-4a39-fc7b-e2bfb002e955"
      },
      "execution_count": 7,
      "outputs": [
        {
          "output_type": "stream",
          "name": "stdout",
          "text": [
            "/content/Anomaly-Detection-in-CCTV-Surveillance-Videos/STAutoEncoder\n",
            "Archive:  /content/Anomaly-Detection-in-CCTV-Surveillance-Videos/STAutoEncoder/training.zip\n",
            "  inflating: training.npy            \n",
            "/content/Anomaly-Detection-in-CCTV-Surveillance-Videos/STAutoEncoder\n"
          ]
        }
      ]
    },
    {
      "cell_type": "code",
      "source": [
        "!python test.py"
      ],
      "metadata": {
        "id": "tj43jkcmZ6dh",
        "colab": {
          "base_uri": "https://localhost:8080/"
        },
        "outputId": "8d275531-af0d-4bc1-8854-f1c8fc3a290e"
      },
      "execution_count": 8,
      "outputs": [
        {
          "output_type": "stream",
          "name": "stdout",
          "text": [
            "2022-05-05 10:07:50.196383: E tensorflow/stream_executor/cuda/cuda_driver.cc:271] failed call to cuInit: CUDA_ERROR_NO_DEVICE: no CUDA-capable device is detected\n",
            "Bunch Normal\n",
            "Bunch Normal\n",
            "Bunch Normal\n",
            "Bunch Normal\n",
            "Bunch Normal\n",
            "Bunch Normal\n",
            "Bunch Normal\n",
            "Bunch Normal\n",
            "Bunch Normal\n",
            "Bunch Normal\n",
            "Bunch Normal\n",
            "Bunch Normal\n",
            "Bunch Normal\n",
            "Bunch Normal\n",
            "Bunch Normal\n",
            "Bunch Normal\n",
            "Bunch Normal\n",
            "Bunch Normal\n",
            "Bunch Normal\n",
            "Bunch Normal\n",
            "Bunch Normal\n",
            "Bunch Normal\n"
          ]
        }
      ]
    },
    {
      "cell_type": "code",
      "source": [
        "from google.colab import drive\n",
        "drive.mount('/content/drive')"
      ],
      "metadata": {
        "colab": {
          "base_uri": "https://localhost:8080/"
        },
        "id": "OWvvnCuztJnx",
        "outputId": "1269fb57-8ea8-481b-f830-503338dd651b"
      },
      "execution_count": 9,
      "outputs": [
        {
          "output_type": "stream",
          "name": "stdout",
          "text": [
            "Mounted at /content/drive\n"
          ]
        }
      ]
    },
    {
      "cell_type": "code",
      "source": [
        "%cd /content/Anomaly-Detection-in-CCTV-Surveillance-Videos/STAutoEncoder"
      ],
      "metadata": {
        "colab": {
          "base_uri": "https://localhost:8080/"
        },
        "id": "gnkQjW14mw9h",
        "outputId": "256b2c5e-fd98-4dce-98f3-eeb14960f803"
      },
      "execution_count": 10,
      "outputs": [
        {
          "output_type": "stream",
          "name": "stdout",
          "text": [
            "/content/Anomaly-Detection-in-CCTV-Surveillance-Videos/STAutoEncoder\n"
          ]
        }
      ]
    },
    {
      "cell_type": "code",
      "source": [
        "!python preprocess.py"
      ],
      "metadata": {
        "colab": {
          "base_uri": "https://localhost:8080/"
        },
        "id": "S54vCM9ku2JB",
        "outputId": "935846e6-a187-4496-a4a4-9f2cfbb4685b"
      },
      "execution_count": 12,
      "outputs": [
        {
          "output_type": "stream",
          "name": "stdout",
          "text": [
            "Traceback (most recent call last):\n",
            "  File \"preprocess.py\", line 5, in <module>\n",
            "    from scipy.misc import imresize\n",
            "ImportError: cannot import name 'imresize' from 'scipy.misc' (/usr/local/lib/python3.7/dist-packages/scipy/misc/__init__.py)\n"
          ]
        }
      ]
    },
    {
      "cell_type": "code",
      "source": [
        ""
      ],
      "metadata": {
        "id": "xRL7zI-Gwrzh"
      },
      "execution_count": null,
      "outputs": []
    },
    {
      "cell_type": "code",
      "source": [
        "!pip install scipy==1.1.0\n"
      ],
      "metadata": {
        "colab": {
          "base_uri": "https://localhost:8080/"
        },
        "id": "R594UeKlwd_b",
        "outputId": "9181157c-a91a-4558-8c8d-5b668ebbc5fd"
      },
      "execution_count": 13,
      "outputs": [
        {
          "output_type": "stream",
          "name": "stdout",
          "text": [
            "Collecting scipy==1.1.0\n",
            "  Downloading scipy-1.1.0-cp37-cp37m-manylinux1_x86_64.whl (31.2 MB)\n",
            "\u001b[K     |████████████████████████████████| 31.2 MB 82.1 MB/s \n",
            "\u001b[?25hRequirement already satisfied: numpy>=1.8.2 in /usr/local/lib/python3.7/dist-packages (from scipy==1.1.0) (1.21.6)\n",
            "Installing collected packages: scipy\n",
            "  Attempting uninstall: scipy\n",
            "    Found existing installation: scipy 1.4.1\n",
            "    Uninstalling scipy-1.4.1:\n",
            "      Successfully uninstalled scipy-1.4.1\n",
            "\u001b[31mERROR: pip's dependency resolver does not currently take into account all the packages that are installed. This behaviour is the source of the following dependency conflicts.\n",
            "pymc3 3.11.4 requires scipy>=1.2.0, but you have scipy 1.1.0 which is incompatible.\n",
            "plotnine 0.6.0 requires scipy>=1.2.0, but you have scipy 1.1.0 which is incompatible.\n",
            "jax 0.3.8 requires scipy>=1.2.1, but you have scipy 1.1.0 which is incompatible.\n",
            "albumentations 0.1.12 requires imgaug<0.2.7,>=0.2.5, but you have imgaug 0.2.9 which is incompatible.\u001b[0m\n",
            "Successfully installed scipy-1.1.0\n"
          ]
        }
      ]
    },
    {
      "cell_type": "code",
      "source": [
        "!python preprocess.py  \"/content/Anomaly-Detection-in-CCTV-Surveillance-Videos/Avenue/testing_videos\" 30"
      ],
      "metadata": {
        "colab": {
          "base_uri": "https://localhost:8080/"
        },
        "id": "MtvjWViowtLq",
        "outputId": "758d96a4-9a5f-4748-aa7e-f5a81350bde6"
      },
      "execution_count": 32,
      "outputs": [
        {
          "output_type": "stream",
          "name": "stdout",
          "text": [
            "['01.avi']\n",
            "Found  1  training video\n",
            "ffmpeg version 3.4.8-0ubuntu0.2 Copyright (c) 2000-2020 the FFmpeg developers\n",
            "  built with gcc 7 (Ubuntu 7.5.0-3ubuntu1~18.04)\n",
            "  configuration: --prefix=/usr --extra-version=0ubuntu0.2 --toolchain=hardened --libdir=/usr/lib/x86_64-linux-gnu --incdir=/usr/include/x86_64-linux-gnu --enable-gpl --disable-stripping --enable-avresample --enable-avisynth --enable-gnutls --enable-ladspa --enable-libass --enable-libbluray --enable-libbs2b --enable-libcaca --enable-libcdio --enable-libflite --enable-libfontconfig --enable-libfreetype --enable-libfribidi --enable-libgme --enable-libgsm --enable-libmp3lame --enable-libmysofa --enable-libopenjpeg --enable-libopenmpt --enable-libopus --enable-libpulse --enable-librubberband --enable-librsvg --enable-libshine --enable-libsnappy --enable-libsoxr --enable-libspeex --enable-libssh --enable-libtheora --enable-libtwolame --enable-libvorbis --enable-libvpx --enable-libwavpack --enable-libwebp --enable-libx265 --enable-libxml2 --enable-libxvid --enable-libzmq --enable-libzvbi --enable-omx --enable-openal --enable-opengl --enable-sdl2 --enable-libdc1394 --enable-libdrm --enable-libiec61883 --enable-chromaprint --enable-frei0r --enable-libopencv --enable-libx264 --enable-shared\n",
            "  libavutil      55. 78.100 / 55. 78.100\n",
            "  libavcodec     57.107.100 / 57.107.100\n",
            "  libavformat    57. 83.100 / 57. 83.100\n",
            "  libavdevice    57. 10.100 / 57. 10.100\n",
            "  libavfilter     6.107.100 /  6.107.100\n",
            "  libavresample   3.  7.  0 /  3.  7.  0\n",
            "  libswscale      4.  8.100 /  4.  8.100\n",
            "  libswresample   2.  9.100 /  2.  9.100\n",
            "  libpostproc    54.  7.100 / 54.  7.100\n",
            "Input #0, avi, from '/content/Anomaly-Detection-in-CCTV-Surveillance-Videos/Avenue/testing_videos/01.avi':\n",
            "  Metadata:\n",
            "    encoder         : Lavf53.4.0\n",
            "  Duration: 00:00:57.56, start: 0.000000, bitrate: 2201 kb/s\n",
            "    Stream #0:0: Video: mpeg4 (Simple Profile) (XVID / 0x44495658), yuv420p, 640x360 [SAR 1:1 DAR 16:9], 2197 kb/s, 25 fps, 25 tbr, 25 tbn, 25 tbc\n",
            "Stream mapping:\n",
            "  Stream #0:0 -> #0:0 (mpeg4 (native) -> mjpeg (native))\n",
            "Press [q] to stop, [?] for help\n",
            "\u001b[1;34m[swscaler @ 0x556f9d314000] \u001b[0m\u001b[0;33mdeprecated pixel format used, make sure you did set range correctly\n",
            "\u001b[0m\u001b[1;36m[mjpeg @ 0x556f9cf87e00] \u001b[0m\u001b[0;33mbitrate tolerance 4000000 too small for bitrate 200000, overriding\n",
            "\u001b[0mOutput #0, image2, to '/content/Anomaly-Detection-in-CCTV-Surveillance-Videos/Avenue/testing_videos/frames/%03d.jpg':\n",
            "  Metadata:\n",
            "    encoder         : Lavf57.83.100\n",
            "    Stream #0:0: Video: mjpeg, yuvj420p(pc), 640x360 [SAR 1:1 DAR 16:9], q=2-31, 200 kb/s, 0.03 fps, 0.03 tbn, 0.03 tbc\n",
            "    Metadata:\n",
            "      encoder         : Lavc57.107.100 mjpeg\n",
            "    Side data:\n",
            "      cpb: bitrate max/min/avg: 0/0/200000 buffer size: 0 vbv_delay: -1\n",
            "frame=    4 fps=2.3 q=1.6 Lsize=N/A time=00:02:00.00 bitrate=N/A dup=0 drop=1435 speed=67.8x    \n",
            "video:146kB audio:0kB subtitle:0kB other streams:0kB global headers:0kB muxing overhead: unknown\n",
            "preprocess.py:32: DeprecationWarning:     `imresize` is deprecated!\n",
            "    `imresize` is deprecated in SciPy 1.0.0, and will be removed in 1.2.0.\n",
            "    Use ``skimage.transform.resize`` instead.\n",
            "  img=imresize(img,(227,227,3))\n",
            "saving the numpy array\n",
            "array save\n"
          ]
        }
      ]
    },
    {
      "cell_type": "code",
      "source": [
        ""
      ],
      "metadata": {
        "id": "pxtubI4z0ItI"
      },
      "execution_count": null,
      "outputs": []
    }
  ]
}